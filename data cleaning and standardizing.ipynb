{
  "cells": [
    {
      "cell_type": "code",
      "source": [
        "from google.colab import drive\n",
        "drive.mount('/content/drive')"
      ],
      "metadata": {
        "id": "ksiMpuoHLfBh",
        "outputId": "29aed1f4-b50a-462d-92b3-277e2b3c9500",
        "colab": {
          "base_uri": "https://localhost:8080/"
        }
      },
      "execution_count": null,
      "outputs": [
        {
          "output_type": "stream",
          "name": "stdout",
          "text": [
            "Drive already mounted at /content/drive; to attempt to forcibly remount, call drive.mount(\"/content/drive\", force_remount=True).\n"
          ]
        }
      ]
    },
    {
      "cell_type": "code",
      "source": [
        "import pandas as pd\n",
        "file_path = '/content/drive/My Drive/your_folder/3) Sentiment dataset.csv'\n",
        "data = pd.read_csv('/content/3) Sentiment dataset.csv')\n",
        "print(data.head())"
      ],
      "metadata": {
        "id": "v3JW78xaLhoQ",
        "outputId": "68d6da8d-9bcb-45fa-9392-5b6cef6ae883",
        "colab": {
          "base_uri": "https://localhost:8080/"
        }
      },
      "execution_count": null,
      "outputs": [
        {
          "output_type": "stream",
          "name": "stdout",
          "text": [
            "   Unnamed: 0.1  Unnamed: 0  \\\n",
            "0             0           0   \n",
            "1             1           1   \n",
            "2             2           2   \n",
            "3             3           3   \n",
            "4             4           4   \n",
            "\n",
            "                                                Text    Sentiment  \\\n",
            "0   Enjoying a beautiful day at the park!        ...   Positive     \n",
            "1   Traffic was terrible this morning.           ...   Negative     \n",
            "2   Just finished an amazing workout! 💪          ...   Positive     \n",
            "3   Excited about the upcoming weekend getaway!  ...   Positive     \n",
            "4   Trying out a new recipe for dinner tonight.  ...   Neutral      \n",
            "\n",
            "             Timestamp            User     Platform  \\\n",
            "0  2023-01-15 12:30:00   User123          Twitter     \n",
            "1  2023-01-15 08:45:00   CommuterX        Twitter     \n",
            "2  2023-01-15 15:45:00   FitnessFan      Instagram    \n",
            "3  2023-01-15 18:20:00   AdventureX       Facebook    \n",
            "4  2023-01-15 19:55:00   ChefCook        Instagram    \n",
            "\n",
            "                                     Hashtags  Retweets  Likes       Country  \\\n",
            "0   #Nature #Park                                  15.0   30.0     USA         \n",
            "1   #Traffic #Morning                               5.0   10.0     Canada      \n",
            "2   #Fitness #Workout                              20.0   40.0   USA           \n",
            "3   #Travel #Adventure                              8.0   15.0     UK          \n",
            "4   #Cooking #Food                                 12.0   25.0    Australia    \n",
            "\n",
            "   Year  Month  Day  Hour  \n",
            "0  2023      1   15    12  \n",
            "1  2023      1   15     8  \n",
            "2  2023      1   15    15  \n",
            "3  2023      1   15    18  \n",
            "4  2023      1   15    19  \n"
          ]
        }
      ]
    },
    {
      "cell_type": "code",
      "source": [
        "# Show missing values per column\n",
        "print(\"Missing values per column:\")\n",
        "print(data.isnull().sum())\n",
        "\n",
        "# Example: Fill numeric missing values with mean\n",
        "for col in data.select_dtypes(include=['float64', 'int64']).columns:\n",
        "    data[col] = data[col].fillna(data[col].mean())\n",
        "\n",
        "# Fill categorical missing values with mode\n",
        "for col in data.select_dtypes(include=['object']).columns:\n",
        "    data[col] = data[col].fillna(data[col].mode()[0])"
      ],
      "metadata": {
        "id": "UMEVsQvMLnij",
        "outputId": "3069320e-d358-4ebe-b8fc-13dc5091af4e",
        "colab": {
          "base_uri": "https://localhost:8080/"
        }
      },
      "execution_count": null,
      "outputs": [
        {
          "output_type": "stream",
          "name": "stdout",
          "text": [
            "Missing values per column:\n",
            "Unnamed: 0.1    0\n",
            "Unnamed: 0      0\n",
            "Text            0\n",
            "Sentiment       0\n",
            "Timestamp       0\n",
            "User            0\n",
            "Platform        0\n",
            "Hashtags        0\n",
            "Retweets        0\n",
            "Likes           0\n",
            "Country         0\n",
            "Year            0\n",
            "Month           0\n",
            "Day             0\n",
            "Hour            0\n",
            "dtype: int64\n"
          ]
        }
      ]
    },
    {
      "cell_type": "code",
      "source": [
        "#deleting duplicates\n",
        "\n",
        "print(\"Duplicates before removal:\", data.duplicated().sum())\n",
        "data = data.drop_duplicates()\n",
        "print(\"Duplicates after removal:\", data.duplicated().sum())"
      ],
      "metadata": {
        "id": "86DYtA4rL8cQ",
        "outputId": "b76321b6-30b4-48ed-efbe-dcf7914c4c56",
        "colab": {
          "base_uri": "https://localhost:8080/"
        }
      },
      "execution_count": null,
      "outputs": [
        {
          "output_type": "stream",
          "name": "stdout",
          "text": [
            "Duplicates before removal: 0\n",
            "Duplicates after removal: 0\n"
          ]
        }
      ]
    },
    {
      "cell_type": "code",
      "source": [
        "# Standardize date columns\n",
        "date_cols = [col for col in data.columns if 'date' in col.lower() or 'time' in col.lower()]\n",
        "for col in date_cols:\n",
        "    data[col] = pd.to_datetime(data[col], errors='coerce')\n",
        "\n",
        "# Standardize categorical/text columns\n",
        "for col in data.select_dtypes(include=['object']).columns:\n",
        "    data[col] = data[col].astype(str).str.lower().str.strip()\n",
        "\n",
        "# Convert numeric-like columns stored as strings to numeric\n",
        "for col in data.columns:\n",
        "    data[col] = pd.to_numeric(data[col], errors='ignore')\n",
        "\n",
        "#final check\n",
        "print(\"Cleaned dataset shape:\", data.shape)\n",
        "print(data.head())\n"
      ],
      "metadata": {
        "id": "sWPlU613MEup",
        "outputId": "0ee95a7b-c7e1-44dd-d304-6254fc6311d5",
        "colab": {
          "base_uri": "https://localhost:8080/"
        }
      },
      "execution_count": null,
      "outputs": [
        {
          "output_type": "stream",
          "name": "stdout",
          "text": [
            "Cleaned dataset shape: (732, 15)\n",
            "   Unnamed: 0.1  Unnamed: 0                                         Text  \\\n",
            "0             0           0        enjoying a beautiful day at the park!   \n",
            "1             1           1           traffic was terrible this morning.   \n",
            "2             2           2          just finished an amazing workout! 💪   \n",
            "3             3           3  excited about the upcoming weekend getaway!   \n",
            "4             4           4  trying out a new recipe for dinner tonight.   \n",
            "\n",
            "             Sentiment            Timestamp        User   Platform  \\\n",
            "0 -9223372036854775808  1673785800000000000     user123    twitter   \n",
            "1 -9223372036854775808  1673772300000000000   commuterx    twitter   \n",
            "2 -9223372036854775808  1673797500000000000  fitnessfan  instagram   \n",
            "3 -9223372036854775808  1673806800000000000  adventurex   facebook   \n",
            "4 -9223372036854775808  1673812500000000000    chefcook  instagram   \n",
            "\n",
            "             Hashtags  Retweets  Likes    Country  Year  Month  Day  Hour  \n",
            "0       #nature #park      15.0   30.0        usa  2023      1   15    12  \n",
            "1   #traffic #morning       5.0   10.0     canada  2023      1   15     8  \n",
            "2   #fitness #workout      20.0   40.0        usa  2023      1   15    15  \n",
            "3  #travel #adventure       8.0   15.0         uk  2023      1   15    18  \n",
            "4      #cooking #food      12.0   25.0  australia  2023      1   15    19  \n"
          ]
        },
        {
          "output_type": "stream",
          "name": "stderr",
          "text": [
            "/tmp/ipython-input-46-3799415785.py:4: UserWarning: Could not infer format, so each element will be parsed individually, falling back to `dateutil`. To ensure parsing is consistent and as-expected, please specify a format.\n",
            "  data[col] = pd.to_datetime(data[col], errors='coerce')\n",
            "/tmp/ipython-input-46-3799415785.py:12: FutureWarning: errors='ignore' is deprecated and will raise in a future version. Use to_numeric without passing `errors` and catch exceptions explicitly instead\n",
            "  data[col] = pd.to_numeric(data[col], errors='ignore')\n"
          ]
        }
      ]
    }
  ],
  "metadata": {
    "colab": {
      "provenance": []
    },
    "kernelspec": {
      "display_name": "Python 3",
      "name": "python3"
    }
  },
  "nbformat": 4,
  "nbformat_minor": 0
}